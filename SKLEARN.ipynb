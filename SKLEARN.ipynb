{
 "cells": [
  {
   "cell_type": "markdown",
   "metadata": {},
   "source": [
    "# KNN, Regression lineaire, Apprentissage supervise"
   ]
  },
  {
   "cell_type": "markdown",
   "metadata": {},
   "source": [
    "Le machine learning consiste a donner a la machine la capacite d'apprendre sans la programmer de facon explicite.\n",
    "\n",
    "Le machine learning consiste a developper un modele mathematique a partir de donnees experimentales. Pour ca, il existe 3 methodes :\n",
    "\n",
    "- apprentissage supervise\n",
    "- apprentissage non supervise\n",
    "- aprentissage par renforcement\n"
   ]
  },
  {
   "cell_type": "markdown",
   "metadata": {},
   "source": [
    "## Apprentissage supervise"
   ]
  },
  {
   "cell_type": "markdown",
   "metadata": {},
   "source": [
    "Dans ce type d'aprentissage, la machine recoit des donnees caracterisees par des variables *x* et annotees d'une variable *y*"
   ]
  },
  {
   "cell_type": "markdown",
   "metadata": {},
   "source": [
    "Dans le vocabulaire du Machine Learning, on appelle les variables \n",
    "\n",
    "- **x** : **\"features\"**, ce qui signifie *Caracteristiques*\n",
    "- **y** : est nommee **\"Label\"**, ce qui veut dire *etiquette*\n",
    "\n",
    "\n",
    "Dans l'aprentissage supervise, le but est aue la Machine apprenne a predire la valeur **y** en fonction des features **x** qu'on lui donne. C'est pour cela que *y* est aussi appele **Target** c.a.d objectif.\n",
    "\n",
    "On specifie quel type de modele que la machine doit apprendre (par exemple : modele lineaire, modele polynomiale, arbre de decision ou bien d'un reseau de neurone), il existe tout plein de types de modeles en machine learning. Au passage, il faut specifier les **hyperparametres** du modele.\n",
    "\n",
    "Apres cela, la machine va travailler pour essayer de determiner grace a un algorithme d'optimisation, quelles sont les meilleurs parametres de notre modele qui nous donnent les meilleures performances pour les donnees de notre **Dataset** (base de donnees) : c'est ce qu'on appelle la **Phase d'entrainement**."
   ]
  },
  {
   "cell_type": "markdown",
   "metadata": {},
   "source": [
    "On peut resoudre 2 types de problemes :\n",
    "    \n",
    "    - Une regression lorsque **y est variable continue ou quantitative**, ex : prix d' un appartement\n",
    "    - Une classification lorsque **y est une variable discrete ou qualitative**, ex : Email Spam/ non Spam"
   ]
  },
  {
   "cell_type": "markdown",
   "metadata": {},
   "source": [
    "### Scikit-Learn"
   ]
  },
  {
   "cell_type": "markdown",
   "metadata": {},
   "source": [
    "3 methodes de scikit-learn :\n",
    "\n",
    "- Selectionner un **estimateur** et preciser ses **hyperparametres**. model = **LinearRegression**(........)\n",
    "\n",
    "- Pour entrainer notre modele, on utilise la methode **fit** dans laquelle on fait paaaer nos donnees *x et y* qui doivent etre presentees dans 2 tableaux Numpy bien distincts. Ces tableaux doivent toujours avoir 2 dimensions. => model.**fit**(X,y)\n",
    "\n",
    "- Une fois le modele entraine, on peut l'evaluer avec la methode **score**. Dans cette methode, on fait une nouvelle fois passer les donnees *x,y*, et cette fois la machine utilise les donnees **x** pour faire des predictions et compares ces predictions aux valeurs **y** qui sont donnees dans la methode score. => model.**score**(X,y)\n",
    "\n",
    "- Une fois que l'on est satisfait par la performance de son modele alors on peut l'utiliser pour faire une **nouvelle prediction** en utilisant la methode predict. => model.**predict**(X)"
   ]
  },
  {
   "cell_type": "code",
   "execution_count": null,
   "metadata": {},
   "outputs": [],
   "source": []
  }
 ],
 "metadata": {
  "kernelspec": {
   "display_name": "Python 3",
   "language": "python",
   "name": "python3"
  },
  "language_info": {
   "codemirror_mode": {
    "name": "ipython",
    "version": 3
   },
   "file_extension": ".py",
   "mimetype": "text/x-python",
   "name": "python",
   "nbconvert_exporter": "python",
   "pygments_lexer": "ipython3",
   "version": "3.8.5"
  }
 },
 "nbformat": 4,
 "nbformat_minor": 4
}
